{
 "cells": [
  {
   "cell_type": "code",
   "id": "initial_id",
   "metadata": {
    "collapsed": true
   },
   "source": [
    "from scor.data import getFlowers102\n",
    "from scor.models import ConvNeXtClassification\n",
    "from scor.losses import SCoR\n",
    "\n",
    "import torch.optim as optim\n",
    "from tqdm import tqdm\n",
    "\n",
    "device = \"cuda\""
   ],
   "outputs": [],
   "execution_count": null
  },
  {
   "metadata": {},
   "cell_type": "code",
   "source": "train_loader, test_loader = getFlowers102()  # or any other dataset",
   "id": "2be4bdd4904aa94e",
   "outputs": [],
   "execution_count": null
  },
  {
   "metadata": {},
   "cell_type": "code",
   "source": [
    "model = ConvNeXtClassification(num_classes=102).to(device)\n",
    "criterion = SCoR()\n",
    "optimizer = optim.Adam(model.parameters(), lr=1e-05)"
   ],
   "id": "612bd46b080b3e0d",
   "outputs": [],
   "execution_count": null
  },
  {
   "metadata": {},
   "cell_type": "code",
   "source": [
    "for epoch in range(25):\n",
    "    model.train()\n",
    "    with tqdm(train_loader, unit=\"it\") as loop:\n",
    "        loop.set_description(f\"Training: Epoch {epoch + 1}\")\n",
    "        for batch_idx, (data, target) in enumerate(loop):\n",
    "            data, target = data.to(device), target.to(device)\n",
    "            optimizer.zero_grad()\n",
    "            output = model(data)\n",
    "            loss = criterion(output, target)\n",
    "            loss.backward()\n",
    "            optimizer.step()\n",
    "            loop.set_postfix(loss=loss.item())"
   ],
   "id": "7482ac3b33cc5034",
   "outputs": [],
   "execution_count": null
  }
 ],
 "metadata": {
  "kernelspec": {
   "display_name": "Python 3",
   "language": "python",
   "name": "python3"
  },
  "language_info": {
   "codemirror_mode": {
    "name": "ipython",
    "version": 2
   },
   "file_extension": ".py",
   "mimetype": "text/x-python",
   "name": "python",
   "nbconvert_exporter": "python",
   "pygments_lexer": "ipython2",
   "version": "2.7.6"
  }
 },
 "nbformat": 4,
 "nbformat_minor": 5
}
