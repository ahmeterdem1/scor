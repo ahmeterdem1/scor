{
 "cells": [
  {
   "cell_type": "code",
   "id": "initial_id",
   "metadata": {
    "collapsed": true,
    "ExecuteTime": {
     "end_time": "2025-06-26T13:51:15.970259Z",
     "start_time": "2025-06-26T13:51:15.965396Z"
    }
   },
   "source": [
    "from scor.training import *\n",
    "from scor.models import getMLP\n",
    "\n",
    "import os\n",
    "\n",
    "device = \"cuda\""
   ],
   "outputs": [],
   "execution_count": 7
  },
  {
   "metadata": {
    "ExecuteTime": {
     "end_time": "2025-06-26T13:51:16.791714Z",
     "start_time": "2025-06-26T13:51:16.786585Z"
    }
   },
   "cell_type": "code",
   "source": [
    "# Generate a model, criterion, optimizer triplet\n",
    "mlp, loss, optimizer = getMLP(loss=\"scor\")"
   ],
   "id": "3faba63457747603",
   "outputs": [],
   "execution_count": 8
  },
  {
   "metadata": {
    "ExecuteTime": {
     "end_time": "2025-06-26T13:51:17.809635Z",
     "start_time": "2025-06-26T13:51:17.806244Z"
    }
   },
   "cell_type": "code",
   "source": [
    "if not os.path.exists(\"results\"):\n",
    "    os.mkdir(\"results\")"
   ],
   "id": "8686919f97a96b2a",
   "outputs": [],
   "execution_count": 9
  },
  {
   "metadata": {
    "ExecuteTime": {
     "end_time": "2025-06-26T13:51:32.905210Z",
     "start_time": "2025-06-26T13:51:32.901129Z"
    }
   },
   "cell_type": "code",
   "source": [
    "for name, param in mlp.named_parameters():\n",
    "    print(name)"
   ],
   "id": "55670bab2db80dcc",
   "outputs": [
    {
     "name": "stdout",
     "output_type": "stream",
     "text": [
      "sequence.0.weight\n",
      "sequence.0.bias\n",
      "sequence.2.weight\n",
      "sequence.2.bias\n"
     ]
    }
   ],
   "execution_count": 10
  },
  {
   "metadata": {
    "ExecuteTime": {
     "end_time": "2025-06-26T13:52:04.336955Z",
     "start_time": "2025-06-26T13:51:34.628586Z"
    }
   },
   "cell_type": "code",
   "source": [
    "# This, and alike functions wrap everything.\n",
    "# - loads data\n",
    "# - creates model, criterion, optimizer (for CE, LS, FL and SCoR)\n",
    "# - trains model for given number of epochs\n",
    "# - evaluates model\n",
    "# - repeats for \"iteration\" times\n",
    "# - saves evaluation results as json\n",
    "trainMLP(batch_size=32,\n",
    "         device=device,\n",
    "         iterations=1,\n",
    "         epochs=1)"
   ],
   "id": "5c4799379aaa9b80",
   "outputs": [
    {
     "name": "stderr",
     "output_type": "stream",
     "text": [
      "Training: 100%|██████████| 1360/1360 [00:07<00:00, 193.75it/s, Loss=0.0106]\n",
      "Training: 100%|██████████| 1360/1360 [00:07<00:00, 185.27it/s, Loss=0.0245]\n",
      "Training: 100%|██████████| 1360/1360 [00:07<00:00, 181.38it/s, Loss=0.174]\n",
      "Training: 100%|██████████| 1360/1360 [00:07<00:00, 182.13it/s, Loss=0.0115]\n"
     ]
    },
    {
     "name": "stdout",
     "output_type": "stream",
     "text": [
      "Training done %100.00000 | Batch size: 32\n",
      "ETA: 29.69578s\n"
     ]
    }
   ],
   "execution_count": 11
  },
  {
   "metadata": {
    "ExecuteTime": {
     "end_time": "2025-06-26T13:52:12.918074Z",
     "start_time": "2025-06-26T13:52:12.907850Z"
    }
   },
   "cell_type": "code",
   "source": "print(os.listdir(\"results\"))",
   "id": "a1f806e021eaf854",
   "outputs": [
    {
     "name": "stdout",
     "output_type": "stream",
     "text": [
      "['ce_data_1750945924.325653_32.json', 'focal_data_1750945924.325653_32.json', 'ls_data_1750945924.325653_32.json', 'scor_data_1750945924.325653_32.json']\n"
     ]
    }
   ],
   "execution_count": 13
  }
 ],
 "metadata": {
  "kernelspec": {
   "display_name": "Python 3",
   "language": "python",
   "name": "python3"
  },
  "language_info": {
   "codemirror_mode": {
    "name": "ipython",
    "version": 2
   },
   "file_extension": ".py",
   "mimetype": "text/x-python",
   "name": "python",
   "nbconvert_exporter": "python",
   "pygments_lexer": "ipython2",
   "version": "2.7.6"
  }
 },
 "nbformat": 4,
 "nbformat_minor": 5
}
